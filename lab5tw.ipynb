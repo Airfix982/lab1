{
 "cells": [
  {
   "cell_type": "code",
   "execution_count": null,
   "metadata": {},
   "outputs": [],
   "source": [
    "import torch\n",
    "import numpy as np\n",
    "import os\n",
    "from typing import Tuple, Any\n",
    "\n",
    "import cv2\n",
    "import pandas as pd\n",
    "import torchvision\n",
    "from torch.utils.data import Dataset\n",
    "from torchvision import datasets\n",
    "from torchvision.transforms import ToTensor\n",
    "import matplotlib.pyplot as plt"
   ]
  },
  {
   "cell_type": "code",
   "execution_count": null,
   "metadata": {},
   "outputs": [],
   "source": [
    "class CustomImageDataset(Dataset):\n",
    "  def __init__(self, path_to_annotation_file: str, transform: Any=None, target_transform: Any=None) -> None:\n",
    "    self.path_to_annotation_file = path_to_annotation_file\n",
    "    self.dataset_info = pd.read_csv(path_to_annotation_file, header=None)\n",
    "    self.dataset_info.drop(self.dataset_info.columns[[0]], axis= 1, inplace= True )\n",
    "    self.dataset_info.drop (index=0, axis= 0 , inplace= True )\n",
    "    self.transform = transform\n",
    "    self.target_transform = target_transform\n",
    "\n",
    "  def __len__(self) -> int:\n",
    "    return len(self.dataset_info)\n",
    "\n",
    "  def __getitem__(self, index: int) -> Tuple[torch.tensor, int]:\n",
    "    path_to_image = self.dataset_info.iloc[index, 0]\n",
    "    image = cv2.cvtColor(cv2.imread(path_to_image), cv2.COLOR_BGR2RGB)\n",
    "    label = self.dataset_info.iloc[index, 1]\n",
    "\n",
    "    if self.transform:\n",
    "      image = self.transform(image)\n",
    "    if self.target_transform:\n",
    "      label = self.target_Transform(label)\n",
    "      \n",
    "    return image, label"
   ]
  },
  {
   "cell_type": "code",
   "execution_count": null,
   "metadata": {},
   "outputs": [],
   "source": [
    "path_to_dataset = r\"/content/drive/MyDrive/lab5/dataset/dataset\"\n",
    "#data_frame = pd.read_csv('annotation_2.csv')#1\n",
    "#data_frame.rename(columns={'Имя классa':'class_name', 'Относительный путь': 'path_to_image'}, inplace=True)\n",
    "#df1 = data_frame.reindex(columns=['class_name', 'path_to_image'])\n",
    "#df1['label'] = 0\n",
    "#df1.loc[df1['class_name'] == 'brown bear', 'label'] = 1\n",
    "#df1.loc[df1['class_name'] == 'polar bear', 'label'] = 0\n",
    "#df = df1[['path_to_image', 'label']]\n",
    "#df.to_csv(os.path.join(path_to_dataset,'annotation_2.csv'))\n",
    "#df['path_to_image'] = df['path_to_image'].replace(['new_data_1'], ['/content/drive/MyDrive/lab5/dataset'], regex=True)\n",
    "\n",
    "#df"
   ]
  },
  {
   "cell_type": "code",
   "execution_count": null,
   "metadata": {},
   "outputs": [],
   "source": [
    "custom_transforms = torchvision.transforms.Compose([torchvision.transforms.ToTensor(),\n",
    "                                                    torchvision.transforms.Resize((224, 224)), \n",
    "                                                    torchvision.transforms.Normalize((0.485, 0.456, 0.406), (0.229, 0.224, 0.225))])"
   ]
  },
  {
   "cell_type": "code",
   "execution_count": null,
   "metadata": {},
   "outputs": [],
   "source": [
    "os.path.join(path_to_dataset, \"annotation_1.csv\")"
   ]
  },
  {
   "cell_type": "code",
   "execution_count": null,
   "metadata": {},
   "outputs": [],
   "source": [
    "custom_dataset = CustomImageDataset(os.path.join(path_to_dataset, \"annotation_1.csv\"), custom_transforms)\n",
    "custom_dataset.dataset_info"
   ]
  },
  {
   "cell_type": "code",
   "execution_count": null,
   "metadata": {},
   "outputs": [],
   "source": [
    "len(custom_dataset), custom_dataset[0][0].shape, custom_dataset[0][0].max(), custom_dataset[0][0].min()"
   ]
  },
  {
   "cell_type": "code",
   "execution_count": null,
   "metadata": {},
   "outputs": [],
   "source": [
    "custom_dataset[0][1], custom_dataset[1500][1]"
   ]
  },
  {
   "cell_type": "code",
   "execution_count": null,
   "metadata": {},
   "outputs": [],
   "source": [
    "plt.figure(figsize=(10, 5))\n",
    "plt.subplot(1, 2, 1)\n",
    "plt.title(\"polar\" if custom_dataset[0][1] == '0' else \"brown\")\n",
    "plt.imshow(custom_dataset[0][0].permute(1, 2, 0).numpy()[:, :, ::-1])\n",
    "plt.subplot(1, 2, 2)\n",
    "plt.title(\"polar\" if custom_dataset[1500][1] == '0' else \"brown\")\n",
    "plt.imshow(custom_dataset[1500][0].permute(1, 2, 0).numpy()[:, :, ::-1])"
   ]
  },
  {
   "cell_type": "code",
   "execution_count": null,
   "metadata": {},
   "outputs": [],
   "source": [
    "from torch.utils.data import DataLoader"
   ]
  },
  {
   "cell_type": "code",
   "execution_count": null,
   "metadata": {},
   "outputs": [],
   "source": [
    "dataloader = DataLoader(custom_dataset, batch_size=4, shuffle=True)"
   ]
  },
  {
   "cell_type": "code",
   "execution_count": null,
   "metadata": {},
   "outputs": [],
   "source": [
    "plt.figure(figsize=(10, 5))\n",
    "\n",
    "for i_batch, sample_batched in enumerate(dataloader):\n",
    "    if i_batch == 1:\n",
    "      break\n",
    "      \n",
    "    print(i_batch, sample_batched[0].shape)\n",
    "\n",
    "    for j in range(4):\n",
    "      plt.subplot(1, 4, j + 1)\n",
    "      plt.title(\"polar\" if sample_batched[1][j] == '0' else \"brown\")\n",
    "      plt.imshow(sample_batched[0][j].permute(1, 2, 0).numpy()[:, :, ::-1])"
   ]
  },
  {
   "cell_type": "code",
   "execution_count": null,
   "metadata": {},
   "outputs": [],
   "source": [
    "import os\n",
    "import random\n",
    "import torch\n",
    "from torch import nn\n",
    "from torch.utils.data import DataLoader\n",
    "from torchvision import datasets, transforms"
   ]
  },
  {
   "cell_type": "code",
   "execution_count": null,
   "metadata": {},
   "outputs": [],
   "source": [
    "class CNN(nn.Module):\n",
    "    def __init__(self) -> None:\n",
    "        super(CNN, self).__init__()\n",
    "        \n",
    "        self.conv_1 = nn.Conv2d(3, 16, kernel_size=3, padding=0, stride=2)\n",
    "        self.conv_2 = nn.Conv2d(16, 32, kernel_size=3, padding=0, stride=2)\n",
    "        self.conv_3 = nn.Conv2d(32, 64, kernel_size=3, padding=0, stride=2)\n",
    "\n",
    "        self.relu = nn.ReLU()\n",
    "        self.dropout = nn.Dropout(0.1)\n",
    "        self.max_pool = nn.MaxPool2d(2)\n",
    "        \n",
    "        self.fc_1 = nn.Linear(576, 10) # 43264 - пока что определяем экспериментальным путем (:\n",
    "        self.fc_2 = nn.Linear(10, 1)\n",
    "        \n",
    "    def forward(self, x: torch.tensor) -> torch.tensor:\n",
    "        output = self.relu(self.conv_1(x))\n",
    "        output = self.max_pool(output)\n",
    "        output = self.relu(self.conv_2(output))\n",
    "        output = self.max_pool(output)\n",
    "        output = self.relu(self.conv_3(output))\n",
    "        output = self.max_pool(output)\n",
    "\n",
    "        # print(torch.nn.Flatten()(output).shape) - определить можно, распечатав вот это\n",
    "\n",
    "        output = torch.nn.Flatten()(output)\n",
    "        output = self.relu(self.fc_1(output))\n",
    "        output = torch.nn.Sigmoid()(self.fc_2(output))\n",
    "        return output"
   ]
  },
  {
   "cell_type": "code",
   "execution_count": null,
   "metadata": {},
   "outputs": [],
   "source": [
    "import matplotlib.pyplot as plt\n",
    "import numpy as np\n",
    "import torch.optim as optim"
   ]
  },
  {
   "cell_type": "code",
   "execution_count": null,
   "metadata": {},
   "outputs": [],
   "source": [
    "path_to_dataset = r\"/content/drive/MyDrive/lab5/dataset/dataset\"\n",
    "path_to_train_annotation = os.path.join(path_to_dataset, \"dataset_train.csv\")\n",
    "path_to_valid_annotation = os.path.join(path_to_dataset, \"dataset_valid.csv\")\n",
    "path_to_test_annotation = os.path.join(path_to_dataset, \"dataset_test.csv\")\n",
    "\n",
    "device = torch.device(\"cuda:0\") if torch.cuda.is_available() else torch.device(\"cpu\")\n",
    "model_1 = CNN().to(device)"
   ]
  },
  {
   "cell_type": "code",
   "execution_count": null,
   "metadata": {},
   "outputs": [],
   "source": [
    "torch.cuda.is_available()"
   ]
  },
  {
   "cell_type": "code",
   "execution_count": null,
   "metadata": {},
   "outputs": [],
   "source": [
    "custom_transforms = torchvision.transforms.Compose([torchvision.transforms.ToTensor(),\n",
    "                                                    torchvision.transforms.Resize((224, 224)), \n",
    "                                                    torchvision.transforms.Normalize((0.485, 0.456, 0.406), (0.229, 0.224, 0.225))])"
   ]
  },
  {
   "cell_type": "code",
   "execution_count": null,
   "metadata": {},
   "outputs": [],
   "source": [
    "train_dataset = CustomImageDataset(path_to_train_annotation, custom_transforms)\n",
    "test_dataset = CustomImageDataset(path_to_test_annotation, custom_transforms)\n",
    "valid_dataset = CustomImageDataset(path_to_valid_annotation, custom_transforms)\n",
    "\n",
    "print(len(train_dataset), len(test_dataset), len(valid_dataset))"
   ]
  },
  {
   "cell_type": "code",
   "execution_count": null,
   "metadata": {},
   "outputs": [],
   "source": [
    "import random\n",
    "plt.figure(figsize=(10, 5))\n",
    "\n",
    "for j in range(6):\n",
    "  index = random.randint(0, 1601)\n",
    "  plt.subplot(1, 6, j + 1)\n",
    "  plt.title(\"polar\" if train_dataset[index][1] == '0' else \"brown\")\n",
    "  plt.imshow(train_dataset[index][0].permute(1, 2, 0).numpy()[:, :, ::-1])"
   ]
  },
  {
   "cell_type": "code",
   "execution_count": null,
   "metadata": {},
   "outputs": [],
   "source": [
    "import random\n",
    "plt.figure(figsize=(10, 5))\n",
    "\n",
    "for j in range(6):\n",
    "  index = random.randint(0, 201)\n",
    "  plt.subplot(1, 6, j + 1)\n",
    "  plt.title(\"polar\" if test_dataset[index][1] == '0' else \"brown\")\n",
    "  plt.imshow(test_dataset[index][0].permute(1, 2, 0).numpy()[:, :, ::-1])"
   ]
  },
  {
   "cell_type": "code",
   "execution_count": null,
   "metadata": {},
   "outputs": [],
   "source": [
    "import random\n",
    "plt.figure(figsize=(10, 5))\n",
    "\n",
    "for j in range(6):\n",
    "  index = random.randint(0, 200)\n",
    "  plt.subplot(1, 6, j + 1)\n",
    "  plt.title(\"polar\" if valid_dataset[index][1] == '0' else \"brown\")\n",
    "  plt.imshow(valid_dataset[index][0].permute(1, 2, 0).numpy()[:, :, ::-1])"
   ]
  },
  {
   "cell_type": "code",
   "execution_count": null,
   "metadata": {},
   "outputs": [],
   "source": [
    "train_dataloader = DataLoader(train_dataset, batch_size=4, shuffle=True)\n",
    "test_dataloader = DataLoader(test_dataset, batch_size=4, shuffle=False)\n",
    "valid_dataloader = DataLoader(valid_dataset, batch_size=4, shuffle=False)"
   ]
  },
  {
   "cell_type": "code",
   "execution_count": null,
   "metadata": {},
   "outputs": [],
   "source": [
    "optimizer = optim.Adam(params=model_1.parameters(), lr=0.001)\n",
    "criterion = nn.BCELoss()"
   ]
  },
  {
   "cell_type": "code",
   "execution_count": null,
   "metadata": {},
   "outputs": [],
   "source": [
    "epochs = 20\n",
    "\n",
    "model_1.train()\n",
    "\n",
    "accuracy_values = []\n",
    "loss_values = []\n",
    "\n",
    "for epoch in range(epochs):\n",
    "\n",
    "    epoch_loss = 0\n",
    "    epoch_accuracy = 0\n",
    "    i = 0\n",
    "    for data, label in train_dataloader:\n",
    "        i+=1\n",
    "        print(i)\n",
    "        data = data.to(device)\n",
    "        label = torch.tensor(list(int(x) for x in label))\n",
    "        label = label.to(device)\n",
    "        output = model_1(data)\n",
    "        loss = criterion(output, label.unsqueeze(dim=1).to(torch.float))\n",
    "        optimizer.zero_grad()\n",
    "        loss.backward()\n",
    "        optimizer.step()\n",
    "        acc = np.array(([1 if (1 if output[j][0].detach() >= 0.5 else 0) == int(label[j]) else 0 for j in range(4)])).mean()\n",
    "        epoch_accuracy += acc / len(train_dataloader)\n",
    "        epoch_loss += loss / len(train_dataloader)\n",
    "\n",
    "    accuracy_values.append(epoch_accuracy)\n",
    "    loss_values.append(epoch_loss)\n",
    "    print('Epoch : {}, train accuracy : {}, train loss : {}'.format(epoch + 1, epoch_accuracy, epoch_loss))"
   ]
  },
  {
   "cell_type": "code",
   "execution_count": null,
   "metadata": {},
   "outputs": [],
   "source": [
    "plt.figure(figsize=(15, 5))\n",
    "plt.plot(range(20), accuracy_values, color=\"green\")\n",
    "plt.plot(range(20), [float(value.detach()) for value in loss_values], color=\"blue\")\n",
    "plt.legend([\"Accuracy\", \"Loss\"])"
   ]
  },
  {
   "cell_type": "code",
   "execution_count": null,
   "metadata": {},
   "outputs": [],
   "source": [
    "model_1.eval()\n",
    "\n",
    "test_loss = 0\n",
    "test_accuracy = 0\n",
    "    \n",
    "for data, label in test_dataloader:\n",
    "    data = data.to(device)\n",
    "    label = torch.tensor(list(int(x) for x in label))\n",
    "    label = label.to(device)\n",
    "\n",
    "    output = model_1(data)\n",
    "    \n",
    "    acc = np.array(([1 if (1 if output[j][0].detach() >= 0.5 else 0) == int(label[j]) else 0 for j in range(4)])).mean()\n",
    "    test_accuracy += acc / len(test_dataloader)\n",
    "    test_loss += float(loss.detach()) / len(test_dataloader)"
   ]
  },
  {
   "cell_type": "code",
   "execution_count": null,
   "metadata": {},
   "outputs": [],
   "source": [
    "test_accuracy, test_loss"
   ]
  },
  {
   "cell_type": "code",
   "execution_count": null,
   "metadata": {},
   "outputs": [],
   "source": [
    "torch.save(model_1.state_dict(), (\"model_1.pt\"))"
   ]
  },
  {
   "cell_type": "code",
   "execution_count": null,
   "metadata": {},
   "outputs": [],
   "source": [
    "import random\n",
    "plt.figure(figsize=(10, 5))\n",
    "\n",
    "for j in range(2):\n",
    "  index = random.randint(0, 200)\n",
    "  plt.subplot(1, 2, j + 1)\n",
    "  plt.title(\"polar\" if (1 if  model_1((test_dataset[index][0].to(device)).unsqueeze(dim=0))[0] >= 0.5 else 0) == 0 else \"brown\")\n",
    "  plt.imshow(test_dataset[index][0].permute(1, 2, 0).numpy()[:, :, ::-1])"
   ]
  },
  {
   "cell_type": "code",
   "execution_count": null,
   "metadata": {},
   "outputs": [],
   "source": []
  }
 ],
 "metadata": {
  "language_info": {
   "name": "python"
  },
  "orig_nbformat": 4
 },
 "nbformat": 4,
 "nbformat_minor": 2
}
